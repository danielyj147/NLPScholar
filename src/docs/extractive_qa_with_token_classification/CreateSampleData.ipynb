{
 "cells": [
  {
   "cell_type": "code",
   "execution_count": 30,
   "id": "4da3de49-4792-4c2f-b8bb-c0f83bd1f105",
   "metadata": {},
   "outputs": [],
   "source": [
    "all_tokens = [['Beyoncé', 'Giselle', 'Knowles-Carter', '(/biːˈjɒnseɪ/', 'bee-YON-say)', '(born', 'September', '4,', '1981)', \n",
    "               'is', 'an', 'American', 'singer,', 'songwriter,', 'record', 'producer', 'and', 'actress.', \n",
    "               'Born', 'and', 'raised', 'in', 'Houston,', 'Texas,', 'she', 'performed', 'in', 'various', \n",
    "               'singing', 'and', 'dancing', 'competitions', 'as', 'a', 'child,', 'and', 'rose', 'to', 'fame', \n",
    "               'in', 'the', 'late', '1990s', 'as', 'lead', 'singer', 'of', 'R&B', 'girl-group', \"Destiny's\", \n",
    "               'Child.', 'Managed', 'by', 'her', 'father,', 'Mathew', 'Knowles,', 'the', 'group', 'became', \n",
    "               'one', 'of', 'the', \"world's\", 'best-selling', 'girl', 'groups', 'of', 'all', 'time.', \n",
    "               'Their', 'hiatus', 'saw', 'the', 'release', 'of', \"Beyoncé's\", 'debut', 'album,', \n",
    "               'Dangerously', 'in', 'Love', '(2003),', 'which', 'established', 'her', 'as', 'a', 'solo', \n",
    "               'artist', 'worldwide,', 'earned', 'five', 'Grammy', 'Awards', 'and', 'featured', 'the', 'Billboard', \n",
    "               'Hot', '100', 'number-one', 'singles', '\"\"Crazy', 'in', 'Love\"\"', 'and', '\"\"Baby', 'Boy\"\".'],\n",
    "              ['Beyoncé', 'Giselle', 'Knowles-Carter', '(/biːˈjɒnseɪ/', 'bee-YON-say)', '(born', 'September', '4,', '1981)', \n",
    "               'is', 'an', 'American', 'singer,', 'songwriter,', 'record', 'producer', 'and', 'actress.', \n",
    "               'Born', 'and', 'raised', 'in', 'Houston,', 'Texas,', 'she', 'performed', 'in', 'various', \n",
    "               'singing', 'and', 'dancing', 'competitions', 'as', 'a', 'child,', 'and', 'rose', 'to', 'fame', \n",
    "               'in', 'the', 'late', '1990s', 'as', 'lead', 'singer', 'of', 'R&B', 'girl-group', \"Destiny's\", \n",
    "               'Child.', 'Managed', 'by', 'her', 'father,', 'Mathew', 'Knowles,', 'the', 'group', 'became', \n",
    "               'one', 'of', 'the', \"world's\", 'best-selling', 'girl', 'groups', 'of', 'all', 'time.', \n",
    "               'Their', 'hiatus', 'saw', 'the', 'release', 'of', \"Beyoncé's\", 'debut', 'album,', \n",
    "               'Dangerously', 'in', 'Love', '(2003),', 'which', 'established', 'her', 'as', 'a', 'solo', \n",
    "               'artist', 'worldwide,', 'earned', 'five', 'Grammy', 'Awards', 'and', 'featured', 'the', 'Billboard', \n",
    "               'Hot', '100', 'number-one', 'singles', '\"\"Crazy', 'in', 'Love\"\"', 'and', '\"\"Baby', 'Boy\"\".']\n",
    "             ]\n",
    "\n",
    "all_questions = [['When', 'did', 'Beyonce', 'start', 'becoming', 'popular?'], \n",
    "                 ['What', 'areas', 'did', 'Beyonce', 'compete', 'in', 'when', 'she', 'was', 'growing', 'up?'], \n",
    "                ]\n",
    "all_tags = [[False, False, False, False, False, False, False, False, False, False, False, False, False, \n",
    "              False, False, False, False, False, False, False, False, False, False, False, False, False, \n",
    "              False, False, False, False, False, False, False, False, False, False, False, False, False, \n",
    "              True, True, True, True, False, False, False, False, False, False, False, False, False, False, \n",
    "              False, False, False, False, False, False, False, False, False, False, False, False, False, False, \n",
    "              False, False, False, False, False, False, False, False, False, False, False, False, False, False, \n",
    "              False, False, False, False, False, False, False, False, False, False, False, False, False, False, \n",
    "              False, False, False, False, False, False, False, False, False, False, False, False, False, False, \n",
    "            False, False, False, False, False, False], \n",
    "            [False, False, False, False, False, False, False, False, False, False, False, False, False, False, \n",
    "             False, False, False, False, False, False, False, False, False, False, False, False, False, False, True, True, \n",
    "             True, False, False, False, False, False, False, False, False, False, False, False, False, False, False, False, \n",
    "             False, False, False, False, False, False, False, False, False, False, False, False, False, False, False, False, \n",
    "             False, False, False, False, False, False, False, False, False, False, False, False, False, False, False, False, \n",
    "             False, False, False, False, False, False, False, False, False, False, False, False, False, False, False, False, \n",
    "             False, False, False, False, False, False, False, False, False, False, False, False, False, False, False, \n",
    "            False, False, False, False, False, False, False, False, False, False, False]\n",
    "           ]\n",
    "\n",
    "\n",
    "\n",
    "\n",
    "\n",
    "               "
   ]
  },
  {
   "cell_type": "code",
   "execution_count": 32,
   "id": "3b543ff1-a439-4c30-a795-ae5b6e403ba8",
   "metadata": {},
   "outputs": [],
   "source": [
    "# make tags numeric\n",
    "import numpy as np\n",
    "for i in range(len(all_tags)):\n",
    "    tags = np.array(all_tags[i]).astype(int)\n",
    "    all_tags[i] = tags.tolist()"
   ]
  },
  {
   "cell_type": "code",
   "execution_count": 36,
   "id": "8b19e51c-d206-406a-b7e1-255197e516f3",
   "metadata": {
    "editable": true,
    "slideshow": {
     "slide_type": ""
    },
    "tags": []
   },
   "outputs": [
    {
     "name": "stdout",
     "output_type": "stream",
     "text": [
      "When did Beyonce start becoming popular? in the late 1990s\n",
      "What areas did Beyonce compete in when she was growing up? singing and dancing\n"
     ]
    }
   ],
   "source": [
    "# make data\n",
    "# sanity check\n",
    "for tags, context, question in zip(all_tags, all_tokens, all_questions):\n",
    "    assert len(tags) == len(context+question)\n",
    "    full = np.array(context+question)\n",
    "    tags = np.array(tags)\n",
    "    print(' '.join(question), ' '.join(full[tags == 1]))"
   ]
  },
  {
   "cell_type": "code",
   "execution_count": 38,
   "id": "4ac9159c-3ce1-445f-94e0-afeb91a1b7d8",
   "metadata": {},
   "outputs": [],
   "source": [
    "import json\n",
    "with open('train.jsonl', 'w') as f: \n",
    "    for tags, context, question in zip(all_tags, all_tokens, all_questions):\n",
    "        item = {'tokens': context, \n",
    "                'question': question, \n",
    "                'tags': tags}\n",
    "        f.write(json.dumps(item) + '\\n')\n"
   ]
  },
  {
   "cell_type": "code",
   "execution_count": 42,
   "id": "3e69645b-be7a-41c0-9f5d-d446453794c9",
   "metadata": {},
   "outputs": [],
   "source": [
    "import pandas as pd\n",
    "\n",
    "data = {'textid': [], \n",
    "        'text': [], \n",
    "        'pair': [],\n",
    "        'condition': [], \n",
    "        'target': []}\n",
    "textid = 0\n",
    "for tags, context, question in zip(all_tags, all_tokens, all_questions):\n",
    "    data['textid'].append(textid)\n",
    "    textid += 1\n",
    "    data['text'].append(' '.join(context))\n",
    "    data['pair'].append(' '.join(question))\n",
    "    data['condition'].append('qa')\n",
    "    labels = []\n",
    "    for tag in tags:\n",
    "        if tag == 0:\n",
    "            labels.append('NOT_IN_ANSWER')\n",
    "        else:\n",
    "            labels.append('IN_ANSWER')\n",
    "    data['target'].append(' '.join(labels))\n",
    "\n",
    "data = pd.DataFrame.from_dict(data)\n",
    "data.to_csv('test.tsv', sep='\\t', index=False)\n"
   ]
  }
 ],
 "metadata": {
  "kernelspec": {
   "display_name": "Python 3 (ipykernel)",
   "language": "python",
   "name": "python3"
  },
  "language_info": {
   "codemirror_mode": {
    "name": "ipython",
    "version": 3
   },
   "file_extension": ".py",
   "mimetype": "text/x-python",
   "name": "python",
   "nbconvert_exporter": "python",
   "pygments_lexer": "ipython3",
   "version": "3.10.14"
  }
 },
 "nbformat": 4,
 "nbformat_minor": 5
}
